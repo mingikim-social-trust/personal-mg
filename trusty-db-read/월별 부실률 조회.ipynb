{
 "cells": [
  {
   "cell_type": "code",
   "execution_count": 2,
   "metadata": {},
   "outputs": [],
   "source": [
    "from datetime import datetime, timedelta\n",
    "import psycopg2\n",
    "import pandas as pd\n",
    "from datetime import datetime, timedelta\n",
    "from bson import ObjectId\n",
    "import gspread\n",
    "from oauth2client.service_account import ServiceAccountCredentials\n",
    "from sshtunnel import SSHTunnelForwarder\n",
    "from dbutils.pooled_db import PooledDB"
   ]
  },
  {
   "cell_type": "code",
   "execution_count": 4,
   "metadata": {},
   "outputs": [],
   "source": [
    "ssh_host = 'api.trustyapp.io'\n",
    "ssh_username = 'ubuntu'\n",
    "ssh_pem_file = './ng-prod.pem'\n",
    "database_host = '127.0.0.1'  # SSH 터널을 통해 localhost로 접근\n",
    "database_name = 'trusty'\n",
    "database_username = 'server'\n",
    "database_password = 'ygFAhsyTMDzB21VdLTnoq7djxwjDNzuc9yPGukm73otXER8ihD'\n",
    "\n",
    "server = SSHTunnelForwarder(\n",
    "    (ssh_host, 22),  # SSH 서버 주소와 포트\n",
    "    ssh_username=ssh_username,\n",
    "    ssh_pkey=ssh_pem_file,  # Private key 파일 경로\n",
    "    remote_bind_address=(database_host, 5432)  # 원격 MySQL 서버 주소와 포트\n",
    ")\n",
    "\n",
    "server.start()\n",
    "\n",
    "conn = psycopg2.connect(\n",
    "    host='127.0.0.1',  # localhost를 통해 SSH 터널로 접속\n",
    "    user=database_username,\n",
    "    password=database_password,\n",
    "    database=database_name,\n",
    "    port=server.local_bind_port  # sshtunnel이 자동으로 할당한 포트\n",
    ")\n",
    "cursor = conn.cursor()"
   ]
  },
  {
   "cell_type": "code",
   "execution_count": 5,
   "metadata": {},
   "outputs": [
    {
     "name": "stdout",
     "output_type": "stream",
     "text": [
      "        기간  총 대출 수  부실 대출 수\n",
      "0  2015-01       0      NaN\n",
      "1  2015-02       1      0.0\n",
      "2  2015-03       0      NaN\n",
      "3  2015-04       0      NaN\n",
      "4  2015-05       2      1.0\n"
     ]
    }
   ],
   "source": [
    "conn.rollback()\n",
    "import pandas as pd\n",
    "from datetime import datetime\n",
    "\n",
    "# 월별 범위 생성\n",
    "periods = []\n",
    "for year in range(2015, 2025):\n",
    "    for month in range(1, 13):\n",
    "        # 다음 달의 첫날을 계산\n",
    "        if month == 12:\n",
    "            next_month_start = f'{year+1}-01-01'\n",
    "        else:\n",
    "            next_month_start = f'{year}-{month+1:02d}-01'\n",
    "            \n",
    "        periods.append({\n",
    "            'name': f'{year}-{month:02d}',  # 2015-01 형식\n",
    "            'start': f'{year}-{month:02d}-01',\n",
    "            'end': next_month_start\n",
    "        })\n",
    "\n",
    "# 결과를 저장할 리스트\n",
    "all_results = []\n",
    "\n",
    "# 각 기간별 데이터 조회\n",
    "for period in periods:\n",
    "    qry = \"\"\"\n",
    "        SELECT \n",
    "            COUNT(ch.\"createdAt\") as total_count,\n",
    "            SUM(CASE WHEN ch.\"status\" = 'lost' THEN 1 ELSE 0 END) as lost_count\n",
    "        FROM credit_history ch\n",
    "        WHERE ch.\"openedAt\" >= %s \n",
    "        AND ch.\"openedAt\" < %s\n",
    "        \"\"\"\n",
    "    cursor.execute(qry, (period['start'], period['end']))\n",
    "    result = cursor.fetchone()\n",
    "    \n",
    "    # 결과를 리스트에 추가\n",
    "    all_results.append({\n",
    "        '기간': period['name'],\n",
    "        '총 대출 수': result[0],\n",
    "        '부실 대출 수': result[1]\n",
    "    })\n",
    "\n",
    "# DataFrame 생성 및 CSV 저장\n",
    "df = pd.DataFrame(all_results, columns=['기간', '총 대출 수', '부실 대출 수'])\n",
    "df.to_csv('./월별_대출현황.csv', index=False, encoding='utf-8-sig')\n",
    "\n",
    "# 결과 확인\n",
    "print(df.head())"
   ]
  }
 ],
 "metadata": {
  "kernelspec": {
   "display_name": "Python 3",
   "language": "python",
   "name": "python3"
  },
  "language_info": {
   "codemirror_mode": {
    "name": "ipython",
    "version": 3
   },
   "file_extension": ".py",
   "mimetype": "text/x-python",
   "name": "python",
   "nbconvert_exporter": "python",
   "pygments_lexer": "ipython3",
   "version": "3.12.4"
  }
 },
 "nbformat": 4,
 "nbformat_minor": 2
}
