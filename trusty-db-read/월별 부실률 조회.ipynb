{
 "cells": [
  {
   "cell_type": "code",
   "execution_count": 1,
   "metadata": {},
   "outputs": [],
   "source": [
    "from datetime import datetime, timedelta\n",
    "import psycopg2\n",
    "import pandas as pd\n",
    "from datetime import datetime, timedelta\n",
    "from bson import ObjectId\n",
    "import gspread\n",
    "from oauth2client.service_account import ServiceAccountCredentials\n",
    "from sshtunnel import SSHTunnelForwarder\n",
    "from dbutils.pooled_db import PooledDB"
   ]
  },
  {
   "cell_type": "code",
   "execution_count": 2,
   "metadata": {},
   "outputs": [
    {
     "ename": "ValueError",
     "evalue": "No password or public key available!",
     "output_type": "error",
     "traceback": [
      "\u001b[0;31m---------------------------------------------------------------------------\u001b[0m",
      "\u001b[0;31mValueError\u001b[0m                                Traceback (most recent call last)",
      "Cell \u001b[0;32mIn[2], line 9\u001b[0m\n\u001b[1;32m      6\u001b[0m database_username \u001b[38;5;241m=\u001b[39m \u001b[38;5;124m'\u001b[39m\u001b[38;5;124mserver\u001b[39m\u001b[38;5;124m'\u001b[39m\n\u001b[1;32m      7\u001b[0m database_password \u001b[38;5;241m=\u001b[39m \u001b[38;5;124m'\u001b[39m\u001b[38;5;124mygFAhsyTMDzB21VdLTnoq7djxwjDNzuc9yPGukm73otXER8ihD\u001b[39m\u001b[38;5;124m'\u001b[39m\n\u001b[0;32m----> 9\u001b[0m server \u001b[38;5;241m=\u001b[39m \u001b[43mSSHTunnelForwarder\u001b[49m\u001b[43m(\u001b[49m\n\u001b[1;32m     10\u001b[0m \u001b[43m    \u001b[49m\u001b[43m(\u001b[49m\u001b[43mssh_host\u001b[49m\u001b[43m,\u001b[49m\u001b[43m \u001b[49m\u001b[38;5;241;43m22\u001b[39;49m\u001b[43m)\u001b[49m\u001b[43m,\u001b[49m\u001b[43m  \u001b[49m\u001b[38;5;66;43;03m# SSH 서버 주소와 포트\u001b[39;49;00m\n\u001b[1;32m     11\u001b[0m \u001b[43m    \u001b[49m\u001b[43mssh_username\u001b[49m\u001b[38;5;241;43m=\u001b[39;49m\u001b[43mssh_username\u001b[49m\u001b[43m,\u001b[49m\n\u001b[1;32m     12\u001b[0m \u001b[43m    \u001b[49m\u001b[43mssh_pkey\u001b[49m\u001b[38;5;241;43m=\u001b[39;49m\u001b[43mssh_pem_file\u001b[49m\u001b[43m,\u001b[49m\u001b[43m  \u001b[49m\u001b[38;5;66;43;03m# Private key 파일 경로\u001b[39;49;00m\n\u001b[1;32m     13\u001b[0m \u001b[43m    \u001b[49m\u001b[43mremote_bind_address\u001b[49m\u001b[38;5;241;43m=\u001b[39;49m\u001b[43m(\u001b[49m\u001b[43mdatabase_host\u001b[49m\u001b[43m,\u001b[49m\u001b[43m \u001b[49m\u001b[38;5;241;43m5432\u001b[39;49m\u001b[43m)\u001b[49m\u001b[43m  \u001b[49m\u001b[38;5;66;43;03m# 원격 MySQL 서버 주소와 포트\u001b[39;49;00m\n\u001b[1;32m     14\u001b[0m \u001b[43m)\u001b[49m\n\u001b[1;32m     16\u001b[0m server\u001b[38;5;241m.\u001b[39mstart()\n\u001b[1;32m     18\u001b[0m conn \u001b[38;5;241m=\u001b[39m psycopg2\u001b[38;5;241m.\u001b[39mconnect(\n\u001b[1;32m     19\u001b[0m     host\u001b[38;5;241m=\u001b[39m\u001b[38;5;124m'\u001b[39m\u001b[38;5;124m127.0.0.1\u001b[39m\u001b[38;5;124m'\u001b[39m,  \u001b[38;5;66;03m# localhost를 통해 SSH 터널로 접속\u001b[39;00m\n\u001b[1;32m     20\u001b[0m     user\u001b[38;5;241m=\u001b[39mdatabase_username,\n\u001b[0;32m   (...)\u001b[0m\n\u001b[1;32m     23\u001b[0m     port\u001b[38;5;241m=\u001b[39mserver\u001b[38;5;241m.\u001b[39mlocal_bind_port  \u001b[38;5;66;03m# sshtunnel이 자동으로 할당한 포트\u001b[39;00m\n\u001b[1;32m     24\u001b[0m )\n",
      "File \u001b[0;32m/Library/Frameworks/Python.framework/Versions/3.12/lib/python3.12/site-packages/sshtunnel.py:966\u001b[0m, in \u001b[0;36mSSHTunnelForwarder.__init__\u001b[0;34m(self, ssh_address_or_host, ssh_config_file, ssh_host_key, ssh_password, ssh_pkey, ssh_private_key_password, ssh_proxy, ssh_proxy_enabled, ssh_username, local_bind_address, local_bind_addresses, logger, mute_exceptions, remote_bind_address, remote_bind_addresses, set_keepalive, threaded, compression, allow_agent, host_pkey_directories, *args, **kwargs)\u001b[0m\n\u001b[1;32m    947\u001b[0m \u001b[38;5;28mself\u001b[39m\u001b[38;5;241m.\u001b[39m_local_binds \u001b[38;5;241m=\u001b[39m \u001b[38;5;28mself\u001b[39m\u001b[38;5;241m.\u001b[39m_consolidate_binds(\u001b[38;5;28mself\u001b[39m\u001b[38;5;241m.\u001b[39m_local_binds,\n\u001b[1;32m    948\u001b[0m                                             \u001b[38;5;28mself\u001b[39m\u001b[38;5;241m.\u001b[39m_remote_binds)\n\u001b[1;32m    950\u001b[0m (\u001b[38;5;28mself\u001b[39m\u001b[38;5;241m.\u001b[39mssh_host,\n\u001b[1;32m    951\u001b[0m  \u001b[38;5;28mself\u001b[39m\u001b[38;5;241m.\u001b[39mssh_username,\n\u001b[1;32m    952\u001b[0m  ssh_pkey,  \u001b[38;5;66;03m# still needs to go through _consolidate_auth\u001b[39;00m\n\u001b[0;32m   (...)\u001b[0m\n\u001b[1;32m    963\u001b[0m      \u001b[38;5;28mself\u001b[39m\u001b[38;5;241m.\u001b[39mlogger\n\u001b[1;32m    964\u001b[0m )\n\u001b[0;32m--> 966\u001b[0m (\u001b[38;5;28mself\u001b[39m\u001b[38;5;241m.\u001b[39mssh_password, \u001b[38;5;28mself\u001b[39m\u001b[38;5;241m.\u001b[39mssh_pkeys) \u001b[38;5;241m=\u001b[39m \u001b[38;5;28;43mself\u001b[39;49m\u001b[38;5;241;43m.\u001b[39;49m\u001b[43m_consolidate_auth\u001b[49m\u001b[43m(\u001b[49m\n\u001b[1;32m    967\u001b[0m \u001b[43m    \u001b[49m\u001b[43mssh_password\u001b[49m\u001b[38;5;241;43m=\u001b[39;49m\u001b[43mssh_password\u001b[49m\u001b[43m,\u001b[49m\n\u001b[1;32m    968\u001b[0m \u001b[43m    \u001b[49m\u001b[43mssh_pkey\u001b[49m\u001b[38;5;241;43m=\u001b[39;49m\u001b[43mssh_pkey\u001b[49m\u001b[43m,\u001b[49m\n\u001b[1;32m    969\u001b[0m \u001b[43m    \u001b[49m\u001b[43mssh_pkey_password\u001b[49m\u001b[38;5;241;43m=\u001b[39;49m\u001b[43mssh_private_key_password\u001b[49m\u001b[43m,\u001b[49m\n\u001b[1;32m    970\u001b[0m \u001b[43m    \u001b[49m\u001b[43mallow_agent\u001b[49m\u001b[38;5;241;43m=\u001b[39;49m\u001b[43mallow_agent\u001b[49m\u001b[43m,\u001b[49m\n\u001b[1;32m    971\u001b[0m \u001b[43m    \u001b[49m\u001b[43mhost_pkey_directories\u001b[49m\u001b[38;5;241;43m=\u001b[39;49m\u001b[43mhost_pkey_directories\u001b[49m\u001b[43m,\u001b[49m\n\u001b[1;32m    972\u001b[0m \u001b[43m    \u001b[49m\u001b[43mlogger\u001b[49m\u001b[38;5;241;43m=\u001b[39;49m\u001b[38;5;28;43mself\u001b[39;49m\u001b[38;5;241;43m.\u001b[39;49m\u001b[43mlogger\u001b[49m\n\u001b[1;32m    973\u001b[0m \u001b[43m\u001b[49m\u001b[43m)\u001b[49m\n\u001b[1;32m    975\u001b[0m check_host(\u001b[38;5;28mself\u001b[39m\u001b[38;5;241m.\u001b[39mssh_host)\n\u001b[1;32m    976\u001b[0m check_port(\u001b[38;5;28mself\u001b[39m\u001b[38;5;241m.\u001b[39mssh_port)\n",
      "File \u001b[0;32m/Library/Frameworks/Python.framework/Versions/3.12/lib/python3.12/site-packages/sshtunnel.py:1169\u001b[0m, in \u001b[0;36mSSHTunnelForwarder._consolidate_auth\u001b[0;34m(ssh_password, ssh_pkey, ssh_pkey_password, allow_agent, host_pkey_directories, logger)\u001b[0m\n\u001b[1;32m   1166\u001b[0m     ssh_loaded_pkeys\u001b[38;5;241m.\u001b[39minsert(\u001b[38;5;241m0\u001b[39m, ssh_pkey)\n\u001b[1;32m   1168\u001b[0m \u001b[38;5;28;01mif\u001b[39;00m \u001b[38;5;129;01mnot\u001b[39;00m ssh_password \u001b[38;5;129;01mand\u001b[39;00m \u001b[38;5;129;01mnot\u001b[39;00m ssh_loaded_pkeys:\n\u001b[0;32m-> 1169\u001b[0m     \u001b[38;5;28;01mraise\u001b[39;00m \u001b[38;5;167;01mValueError\u001b[39;00m(\u001b[38;5;124m'\u001b[39m\u001b[38;5;124mNo password or public key available!\u001b[39m\u001b[38;5;124m'\u001b[39m)\n\u001b[1;32m   1170\u001b[0m \u001b[38;5;28;01mreturn\u001b[39;00m (ssh_password, ssh_loaded_pkeys)\n",
      "\u001b[0;31mValueError\u001b[0m: No password or public key available!"
     ]
    }
   ],
   "source": [
    "ssh_host = 'api.trustyapp.io'\n",
    "ssh_username = 'ubuntu'\n",
    "ssh_pem_file = './ng-prod.pem'\n",
    "database_host = '127.0.0.1'  # SSH 터널을 통해 localhost로 접근\n",
    "database_name = 'trusty'\n",
    "database_username = 'server'\n",
    "database_password = 'ygFAhsyTMDzB21VdLTnoq7djxwjDNzuc9yPGukm73otXER8ihD'\n",
    "\n",
    "server = SSHTunnelForwarder(\n",
    "    (ssh_host, 22),  # SSH 서버 주소와 포트\n",
    "    ssh_username=ssh_username,\n",
    "    ssh_pkey=ssh_pem_file,  # Private key 파일 경로\n",
    "    remote_bind_address=(database_host, 5432)  # 원격 MySQL 서버 주소와 포트\n",
    ")\n",
    "\n",
    "server.start()\n",
    "\n",
    "conn = psycopg2.connect(\n",
    "    host='127.0.0.1',  # localhost를 통해 SSH 터널로 접속\n",
    "    user=database_username,\n",
    "    password=database_password,\n",
    "    database=database_name,\n",
    "    port=server.local_bind_port  # sshtunnel이 자동으로 할당한 포트\n",
    ")\n",
    "cursor = conn.cursor()"
   ]
  },
  {
   "cell_type": "code",
   "execution_count": 5,
   "metadata": {},
   "outputs": [
    {
     "name": "stdout",
     "output_type": "stream",
     "text": [
      "        기간  총 대출 수  부실 대출 수\n",
      "0  2015-01       0      NaN\n",
      "1  2015-02       1      0.0\n",
      "2  2015-03       0      NaN\n",
      "3  2015-04       0      NaN\n",
      "4  2015-05       2      1.0\n"
     ]
    }
   ],
   "source": [
    "conn.rollback()\n",
    "import pandas as pd\n",
    "from datetime import datetime\n",
    "\n",
    "# 월별 범위 생성\n",
    "periods = []\n",
    "for year in range(2015, 2025):\n",
    "    for month in range(1, 13):\n",
    "        # 다음 달의 첫날을 계산\n",
    "        if month == 12:\n",
    "            next_month_start = f'{year+1}-01-01'\n",
    "        else:\n",
    "            next_month_start = f'{year}-{month+1:02d}-01'\n",
    "            \n",
    "        periods.append({\n",
    "            'name': f'{year}-{month:02d}',  # 2015-01 형식\n",
    "            'start': f'{year}-{month:02d}-01',\n",
    "            'end': next_month_start\n",
    "        })\n",
    "\n",
    "# 결과를 저장할 리스트\n",
    "all_results = []\n",
    "\n",
    "# 각 기간별 데이터 조회\n",
    "for period in periods:\n",
    "    qry = \"\"\"\n",
    "        SELECT \n",
    "            COUNT(ch.\"createdAt\") as total_count,\n",
    "            SUM(CASE WHEN ch.\"status\" = 'lost' THEN 1 ELSE 0 END) as lost_count\n",
    "        FROM credit_history ch\n",
    "        WHERE ch.\"openedAt\" >= %s \n",
    "        AND ch.\"openedAt\" < %s\n",
    "        \"\"\"\n",
    "    cursor.execute(qry, (period['start'], period['end']))\n",
    "    result = cursor.fetchone()\n",
    "    \n",
    "    # 결과를 리스트에 추가\n",
    "    all_results.append({\n",
    "        '기간': period['name'],\n",
    "        '총 대출 수': result[0],\n",
    "        '부실 대출 수': result[1]\n",
    "    })\n",
    "\n",
    "# DataFrame 생성 및 CSV 저장\n",
    "df = pd.DataFrame(all_results, columns=['기간', '총 대출 수', '부실 대출 수'])\n",
    "df.to_csv('./월별_대출현황.csv', index=False, encoding='utf-8-sig')\n",
    "\n",
    "# 결과 확인\n",
    "print(df.head())"
   ]
  }
 ],
 "metadata": {
  "kernelspec": {
   "display_name": "Python 3",
   "language": "python",
   "name": "python3"
  },
  "language_info": {
   "codemirror_mode": {
    "name": "ipython",
    "version": 3
   },
   "file_extension": ".py",
   "mimetype": "text/x-python",
   "name": "python",
   "nbconvert_exporter": "python",
   "pygments_lexer": "ipython3",
   "version": "3.12.1"
  }
 },
 "nbformat": 4,
 "nbformat_minor": 2
}
