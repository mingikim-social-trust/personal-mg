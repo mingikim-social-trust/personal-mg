{
 "cells": [
  {
   "cell_type": "code",
   "execution_count": 6,
   "metadata": {},
   "outputs": [],
   "source": [
    "from datetime import datetime, timedelta\n",
    "import psycopg2\n",
    "import pandas as pd\n",
    "from datetime import datetime, timedelta\n",
    "from bson import ObjectId\n",
    "import gspread\n",
    "from oauth2client.service_account import ServiceAccountCredentials\n",
    "from sshtunnel import SSHTunnelForwarder\n",
    "from dbutils.pooled_db import PooledDB"
   ]
  },
  {
   "cell_type": "code",
   "execution_count": 19,
   "metadata": {},
   "outputs": [],
   "source": [
    "ssh_host = 'api.trustyapp.io'\n",
    "ssh_username = 'ubuntu'\n",
    "ssh_pem_file = './ng-prod.pem'\n",
    "database_host = '127.0.0.1'  # SSH 터널을 통해 localhost로 접근\n",
    "database_name = 'trusty'\n",
    "database_username = 'server'\n",
    "database_password = 'ygFAhsyTMDzB21VdLTnoq7djxwjDNzuc9yPGukm73otXER8ihD'\n",
    "\n",
    "server = SSHTunnelForwarder(\n",
    "    (ssh_host, 22),  # SSH 서버 주소와 포트\n",
    "    ssh_username=ssh_username,\n",
    "    ssh_pkey=ssh_pem_file,  # Private key 파일 경로\n",
    "    remote_bind_address=(database_host, 5432)  # 원격 MySQL 서버 주소와 포트\n",
    ")\n",
    "\n",
    "server.start()\n",
    "\n",
    "conn = psycopg2.connect(\n",
    "    host='127.0.0.1',  # localhost를 통해 SSH 터널로 접속\n",
    "    user=database_username,\n",
    "    password=database_password,\n",
    "    database=database_name,\n",
    "    port=server.local_bind_port  # sshtunnel이 자동으로 할당한 포트\n",
    ")\n",
    "cursor = conn.cursor()"
   ]
  },
  {
   "cell_type": "code",
   "execution_count": 27,
   "metadata": {},
   "outputs": [
    {
     "name": "stdout",
     "output_type": "stream",
     "text": [
      "[{'기간': '2015 상반기', '총 대출 수': 4, '부실 대출 수 (lost)': 1}, {'기간': '2015 하반기', '총 대출 수': 9, '부실 대출 수 (lost)': 0}, {'기간': '2016 상반기', '총 대출 수': 11, '부실 대출 수 (lost)': 2}, {'기간': '2016 하반기', '총 대출 수': 23, '부실 대출 수 (lost)': 6}, {'기간': '2017 상반기', '총 대출 수': 19, '부실 대출 수 (lost)': 1}, {'기간': '2017 하반기', '총 대출 수': 50, '부실 대출 수 (lost)': 4}, {'기간': '2018 상반기', '총 대출 수': 96, '부실 대출 수 (lost)': 16}, {'기간': '2018 하반기', '총 대출 수': 127, '부실 대출 수 (lost)': 24}, {'기간': '2019 상반기', '총 대출 수': 214, '부실 대출 수 (lost)': 28}, {'기간': '2019 하반기', '총 대출 수': 315, '부실 대출 수 (lost)': 36}, {'기간': '2020 상반기', '총 대출 수': 257, '부실 대출 수 (lost)': 41}, {'기간': '2020 하반기', '총 대출 수': 350, '부실 대출 수 (lost)': 59}, {'기간': '2021 상반기', '총 대출 수': 409, '부실 대출 수 (lost)': 76}, {'기간': '2021 하반기', '총 대출 수': 377, '부실 대출 수 (lost)': 109}, {'기간': '2022 상반기', '총 대출 수': 324, '부실 대출 수 (lost)': 63}, {'기간': '2022 하반기', '총 대출 수': 327, '부실 대출 수 (lost)': 67}, {'기간': '2023 상반기', '총 대출 수': 320, '부실 대출 수 (lost)': 80}, {'기간': '2023 하반기', '총 대출 수': 289, '부실 대출 수 (lost)': 46}, {'기간': '2024 상반기', '총 대출 수': 332, '부실 대출 수 (lost)': 60}, {'기간': '2024 하반기', '총 대출 수': 263, '부실 대출 수 (lost)': 5}]\n"
     ]
    }
   ],
   "source": [
    "conn.rollback()\n",
    "import pandas as pd\n",
    "\n",
    "# 날짜 범위 생성\n",
    "periods = []\n",
    "for year in range(2015, 2025):\n",
    "    # 상반기\n",
    "    periods.append({\n",
    "        'name': f'{year} 상반기',\n",
    "        'start': f'{year}-01-01',\n",
    "        'end': f'{year}-07-01'\n",
    "    })\n",
    "    # 하반기\n",
    "    periods.append({\n",
    "        'name': f'{year} 하반기',\n",
    "        'start': f'{year}-07-01',\n",
    "        'end': f'{year+1}-01-01'\n",
    "    })\n",
    "\n",
    "# 결과를 저장할 리스트\n",
    "all_results = []\n",
    "\n",
    "# 각 기간별 데이터 조회\n",
    "for period in periods:\n",
    "    qry = f\"\"\"\n",
    "        SELECT \n",
    "            COUNT(ch.\"createdAt\") as total_count,\n",
    "            SUM(CASE WHEN ch.\"status\" = 'lost' THEN 1 ELSE 0 END) as lost_count\n",
    "        FROM credit_history ch\n",
    "        WHERE ch.\"openedAt\" >= $${period['start']}$$ \n",
    "        AND ch.\"openedAt\" < $${period['end']}$$\n",
    "        \"\"\"\n",
    "    cursor.execute(qry)\n",
    "    result = cursor.fetchone()\n",
    "    \n",
    "    # 결과를 리스트에 추가\n",
    "    all_results.append({\n",
    "        '기간': period['name'],\n",
    "        '총 대출 수': result[0],\n",
    "        '부실 대출 수 (lost)': result[1]\n",
    "    })\n",
    "\n",
    "print(all_results)\n",
    "cursor.execute(qry)\n",
    "result = cursor.fetchall()\n",
    "\n",
    "\n",
    "base_filepath = './'\n",
    "# DataFrame 생성 및 CSV 저장\n",
    "df = pd.DataFrame(all_results, columns=['기간', '총 대출 수', '부실 대출 수 (lost)'])\n",
    "df.to_csv(base_filepath + '/반기별_대출현황.csv', index=False, encoding='utf-8-sig')\n"
   ]
  }
 ],
 "metadata": {
  "kernelspec": {
   "display_name": "Python 3",
   "language": "python",
   "name": "python3"
  },
  "language_info": {
   "codemirror_mode": {
    "name": "ipython",
    "version": 3
   },
   "file_extension": ".py",
   "mimetype": "text/x-python",
   "name": "python",
   "nbconvert_exporter": "python",
   "pygments_lexer": "ipython3",
   "version": "3.12.4"
  }
 },
 "nbformat": 4,
 "nbformat_minor": 2
}
