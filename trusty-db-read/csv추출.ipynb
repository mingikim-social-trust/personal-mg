{
 "cells": [
  {
   "cell_type": "code",
   "execution_count": 1,
   "metadata": {},
   "outputs": [],
   "source": [
    "from datetime import datetime, timedelta\n",
    "import psycopg2\n",
    "import pandas as pd\n",
    "from datetime import datetime, timedelta\n",
    "from bson import ObjectId\n",
    "import gspread\n",
    "from oauth2client.service_account import ServiceAccountCredentials\n",
    "from sshtunnel import SSHTunnelForwarder\n",
    "from dbutils.pooled_db import PooledDB\n",
    "\n",
    "ssh_host = 'api.trustyapp.io'\n",
    "ssh_username = 'ubuntu'\n",
    "ssh_pem_file = './ng-prod.pem'\n",
    "database_host = '127.0.0.1'  # SSH 터널을 통해 localhost로 접근\n",
    "database_name = 'trusty'\n",
    "database_username = 'server'\n",
    "database_password = 'ygFAhsyTMDzB21VdLTnoq7djxwjDNzuc9yPGukm73otXER8ihD'\n",
    "\n",
    "server = SSHTunnelForwarder(\n",
    "    (ssh_host, 22),  # SSH 서버 주소와 포트\n",
    "    ssh_username=ssh_username,\n",
    "    ssh_pkey=ssh_pem_file,  # Private key 파일 경로\n",
    "    remote_bind_address=(database_host, 5432)  # 원격 MySQL 서버 주소와 포트\n",
    ")\n",
    "\n",
    "server.start()\n",
    "\n",
    "conn = psycopg2.connect(\n",
    "    host='127.0.0.1',  # localhost를 통해 SSH 터널로 접속\n",
    "    user=database_username,\n",
    "    password=database_password,\n",
    "    database=database_name,\n",
    "    port=server.local_bind_port  # sshtunnel이 자동으로 할당한 포트\n",
    ")\n",
    "cursor = conn.cursor()"
   ]
  },
  {
   "cell_type": "code",
   "execution_count": 10,
   "metadata": {},
   "outputs": [
    {
     "name": "stdout",
     "output_type": "stream",
     "text": [
      "       id serviceProvider    type  amount             transactionAt  \\\n",
      "0  328385            mono   debit     800 2024-08-06 01:00:00+00:00   \n",
      "1  328380            mono  credit       2 2024-09-01 01:00:00+00:00   \n",
      "2  328381            mono   debit  299075 2024-09-01 01:00:00+00:00   \n",
      "3  328382            mono  credit  300000 2024-09-01 01:00:00+00:00   \n",
      "4  328383            mono   debit  120075 2024-09-01 01:00:00+00:00   \n",
      "\n",
      "                                         description  bankAccountId  balance  \\\n",
      "0   SMS/SMS CHARGES JULY 29TH 2024 - AUGUST 2ND 2024            432      392   \n",
      "1             Interest Paid 01-08-2024 to 31-08-2024            432     1244   \n",
      "2            MOB/UTO/MARY ABIODUN A/food/25525513811            432     1242   \n",
      "3  TNF-Paystack/Transfer from CashXpress Nigeria ...            432   300317   \n",
      "4           MOB/UTO/IYABO OBEDAT A/goods/25520749017            432      317   \n",
      "\n",
      "  category userDescription bsParseJobId oPayWalletType   id accountNumber  \\\n",
      "0     None            None         None           None  432    2262736127   \n",
      "1     None            None         None           None  432    2262736127   \n",
      "2     None            None         None           None  432    2262736127   \n",
      "3     None            None         None           None  432    2262736127   \n",
      "4     None            None         None           None  432    2262736127   \n",
      "\n",
      "       accountHolderName  bankId  userId  \n",
      "0  MARY ABIODUN ADESAKIN     166     504  \n",
      "1  MARY ABIODUN ADESAKIN     166     504  \n",
      "2  MARY ABIODUN ADESAKIN     166     504  \n",
      "3  MARY ABIODUN ADESAKIN     166     504  \n",
      "4  MARY ABIODUN ADESAKIN     166     504  \n"
     ]
    },
    {
     "name": "stderr",
     "output_type": "stream",
     "text": [
      "2025-02-14 18:35:57,553| ERROR   | Socket exception: An existing connection was forcibly closed by the remote host (10054)\n"
     ]
    }
   ],
   "source": [
    "conn.rollback()\n",
    "\n",
    "userId = '504'\n",
    "qry = \"\"\"\n",
    "select bt.id,\tbt.\"serviceProvider\",\tbt.\"type\",\tbt.\"amount\",\tbt.\"transactionAt\",\tbt.\"description\",\tbt.\"bankAccountId\",\tbt.\"balance\",\tbt.\"category\",\tbt.\"userDescription\",\tbt.\"bsParseJobId\",\tbt.\"oPayWalletType\", ba.id,\tba.\"accountNumber\",\tba.\"accountHolderName\",\tba.\"bankId\",\tba.\"userId\"\n",
    "from bank_transaction bt\n",
    "left join bank_account ba on bt.\"bankAccountId\" = ba.id\n",
    "where ba.\"userId\" = %s\n",
    "order by ba.id, bt.\"transactionAt\" ASC, bt.id ASC\n",
    "        \"\"\"\n",
    "cursor.execute(qry, (userId,) )\n",
    "result = cursor.fetchall()\n",
    "\n",
    "# DataFrame 생성\n",
    "df = pd.DataFrame(result, columns=[desc[0] for desc in cursor.description])\n",
    "df.to_csv('./%s-bs.csv' % userId, index=False, encoding='utf-8-sig')\n",
    "\n",
    "# 결과 확인\n",
    "print(df.head())"
   ]
  }
 ],
 "metadata": {
  "kernelspec": {
   "display_name": "Python 3",
   "language": "python",
   "name": "python3"
  },
  "language_info": {
   "codemirror_mode": {
    "name": "ipython",
    "version": 3
   },
   "file_extension": ".py",
   "mimetype": "text/x-python",
   "name": "python",
   "nbconvert_exporter": "python",
   "pygments_lexer": "ipython3",
   "version": "3.12.4"
  }
 },
 "nbformat": 4,
 "nbformat_minor": 2
}
