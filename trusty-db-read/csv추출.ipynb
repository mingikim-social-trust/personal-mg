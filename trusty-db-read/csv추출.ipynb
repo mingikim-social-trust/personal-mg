{
 "cells": [
  {
   "cell_type": "code",
   "execution_count": 1,
   "metadata": {},
   "outputs": [],
   "source": [
    "from datetime import datetime, timedelta\n",
    "import psycopg2\n",
    "import pandas as pd\n",
    "from datetime import datetime, timedelta\n",
    "from bson import ObjectId\n",
    "import gspread\n",
    "from oauth2client.service_account import ServiceAccountCredentials\n",
    "from sshtunnel import SSHTunnelForwarder\n",
    "from dbutils.pooled_db import PooledDB\n",
    "\n",
    "ssh_host = 'api.trustyapp.io'\n",
    "ssh_username = 'ubuntu'\n",
    "ssh_pem_file = './ng-prod.pem'\n",
    "database_host = '127.0.0.1'  # SSH 터널을 통해 localhost로 접근\n",
    "database_name = 'trusty'\n",
    "database_username = 'server'\n",
    "database_password = 'ygFAhsyTMDzB21VdLTnoq7djxwjDNzuc9yPGukm73otXER8ihD'\n",
    "\n",
    "server = SSHTunnelForwarder(\n",
    "    (ssh_host, 22),  # SSH 서버 주소와 포트\n",
    "    ssh_username=ssh_username,\n",
    "    ssh_pkey=ssh_pem_file,  # Private key 파일 경로\n",
    "    remote_bind_address=(database_host, 5432)  # 원격 MySQL 서버 주소와 포트\n",
    ")\n",
    "\n",
    "server.start()\n",
    "\n",
    "conn = psycopg2.connect(\n",
    "    host='127.0.0.1',  # localhost를 통해 SSH 터널로 접속\n",
    "    user=database_username,\n",
    "    password=database_password,\n",
    "    database=database_name,\n",
    "    port=server.local_bind_port  # sshtunnel이 자동으로 할당한 포트\n",
    ")\n",
    "cursor = conn.cursor()"
   ]
  },
  {
   "cell_type": "code",
   "execution_count": 5,
   "metadata": {},
   "outputs": [
    {
     "name": "stdout",
     "output_type": "stream",
     "text": [
      "                         createdAt                        updatedAt    id  \\\n",
      "0 2025-02-13 11:33:04.257602+00:00 2025-02-13 11:33:04.257602+00:00  7145   \n",
      "1 2025-02-13 11:33:04.257602+00:00 2025-02-13 11:33:04.257602+00:00  7149   \n",
      "2 2025-02-13 11:33:04.257602+00:00 2025-02-13 11:33:04.257602+00:00  7150   \n",
      "3 2025-02-13 11:57:34.542321+00:00 2025-02-13 11:57:34.542321+00:00  7162   \n",
      "4 2024-10-29 12:49:13.170622+00:00 2024-10-29 12:49:13.170622+00:00     7   \n",
      "\n",
      "          bureau  reportedAt                       institutionName  \\\n",
      "0  first-central  2025-01-24                       NewEdge Finance   \n",
      "1  first-central  2023-05-01                       NewEdge Finance   \n",
      "2  first-central  2023-04-07                       NewEdge Finance   \n",
      "3            crc  2024-02-27  ALTRACRED FINANCE INVESTMENT LIMITED   \n",
      "4  first-central  2023-05-25                       NewEdge Finance   \n",
      "\n",
      "         accountNumber                loanDescription loanAmount  \\\n",
      "0           1500034654  Payday Loan or salary advance       2000   \n",
      "1                69867  Payday Loan or salary advance       2000   \n",
      "2                81930  Payday Loan or salary advance       3030   \n",
      "3  sd20231113005042326                  Personal Loan       6000   \n",
      "4           1500805962  Payday Loan or salary advance      11000   \n",
      "\n",
      "  repaymentAmount    openedAt       dueAt lastRepaymentAt      status  userId  \\\n",
      "0            None  2021-01-20  2021-02-02            None        lost     822   \n",
      "1            None  2021-01-02  2021-01-15      2021-01-11  performing     822   \n",
      "2            None  2021-01-11  2021-01-24      2021-01-25  performing     822   \n",
      "3               0  2023-11-12  2023-11-25      2024-02-26        lost     820   \n",
      "4            None  2021-07-25  2021-08-07      2021-08-03  performing       4   \n",
      "\n",
      "                  identifiedInstitution  \n",
      "0               newedge finance limited  \n",
      "1               newedge finance limited  \n",
      "2               newedge finance limited  \n",
      "3  altracred finance investment limited  \n",
      "4               newedge finance limited  \n"
     ]
    }
   ],
   "source": [
    "conn.rollback()\n",
    "\n",
    "qry = \"\"\"\n",
    "SELECT *\n",
    "FROM credit_history ch\n",
    "WHERE AGE(ch.\"dueAt\", ch.\"openedAt\") <= INTERVAL '15 days';\n",
    "        \"\"\"\n",
    "cursor.execute(qry)\n",
    "result = cursor.fetchall()\n",
    "\n",
    "# DataFrame 생성\n",
    "df = pd.DataFrame(result, columns=[desc[0] for desc in cursor.description])\n",
    "df.to_csv('평균대출금액_파_15.csv', index=False, encoding='utf-8-sig')\n",
    "\n",
    "# 결과 확인\n",
    "print(df.head())"
   ]
  }
 ],
 "metadata": {
  "kernelspec": {
   "display_name": "Python 3",
   "language": "python",
   "name": "python3"
  },
  "language_info": {
   "codemirror_mode": {
    "name": "ipython",
    "version": 3
   },
   "file_extension": ".py",
   "mimetype": "text/x-python",
   "name": "python",
   "nbconvert_exporter": "python",
   "pygments_lexer": "ipython3",
   "version": "3.12.4"
  }
 },
 "nbformat": 4,
 "nbformat_minor": 2
}
